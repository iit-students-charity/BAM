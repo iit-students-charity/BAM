{
 "cells": [
  {
   "cell_type": "code",
   "execution_count": 1,
   "metadata": {},
   "outputs": [],
   "source": [
    "# 6.Реализовать двунаправленную ассоциативную память.\n",
    "import numpy as np\n",
    "import math\n",
    "import matplotlib.pyplot as plt\n",
    "import time\n",
    "LAMBDA = 5"
   ]
  },
  {
   "cell_type": "code",
   "execution_count": 2,
   "metadata": {},
   "outputs": [],
   "source": [
    "class BAM_model:\n",
    "    def __init__(self, X, Y, W, file_name, matrix_file, N, M, P, useful_capacity):        \n",
    "        self.X = X\n",
    "        self.Y = Y\n",
    "        self.W = W\n",
    "        self.file_name = file_name\n",
    "        self.matrix_file = matrix_file\n",
    "        self.N = N\n",
    "        self.M = M\n",
    "        self.P = P\n",
    "        self.useful_capacity = useful_capacity"
   ]
  },
  {
   "cell_type": "code",
   "execution_count": 3,
   "metadata": {},
   "outputs": [],
   "source": [
    "def F(S):\n",
    "    if (-LAMBDA * S) <= 0:\n",
    "        return 1\n",
    "    else:\n",
    "        return -1\n",
    "    \n",
    "def activate_m(Y):\n",
    "    for i in range(Y.shape[0]):\n",
    "        for j in range(Y.shape[1]):\n",
    "            Y.itemset((i,j), F(Y.item((i,j))))\n",
    "    return Y\n",
    "\n",
    "def BAM_max_vectors_count(n):\n",
    "    res = (int) (n / (2 * math.log2(n)))\n",
    "    print(n / (2 * math.log2(n)))\n",
    "    if res < 0:\n",
    "        return 0\n",
    "    else:\n",
    "        return res\n",
    "    \n",
    "def transform_to_bipolar_vector(A):\n",
    "    X = A.flatten()\n",
    "    for i in range(X.size):\n",
    "        if X.item(i) == 0:\n",
    "            X.itemset(i, -1)\n",
    "    X = X[:,np.newaxis]\n",
    "    return X\n"
   ]
  },
  {
   "cell_type": "code",
   "execution_count": 4,
   "metadata": {},
   "outputs": [],
   "source": [
    "def read_matrix(file, n, m):    \n",
    "    matrix = np.zeros((n, m))\n",
    "\n",
    "    for i in range(matrix.shape[0]):               \n",
    "        matrix[i] = [int(x) for x in file.readline().split()]\n",
    "    \n",
    "    return matrix\n",
    "\n",
    "\n",
    "def write_matrix(matrix, file):    \n",
    "    \n",
    "    for i in range(matrix.shape[0]):  \n",
    "        for j in range(matrix.shape[1]):              \n",
    "            file.write(str(matrix.item((i,j))) + ' ')\n",
    "        file.write('\\n')\n",
    "    return"
   ]
  },
  {
   "cell_type": "code",
   "execution_count": 5,
   "metadata": {},
   "outputs": [],
   "source": [
    "def BAM_create(file_name, N, M, P):\n",
    "    file = open(file_name, 'w')\n",
    "    useful_capacity = BAM_max_vectors_count(min(N * M, M * P))\n",
    "    file.write(str(useful_capacity) + '\\n' + str(N) + ' ' + str(M) + ' ' + str(P) + '\\n')\n",
    "    \n",
    "    for i in range(N * M):\n",
    "        for j in range(M * P):\n",
    "            file.write(\"0 \")        \n",
    "        file.write(\"\\n\")\n",
    "    file.close()\n",
    "    return 1"
   ]
  },
  {
   "cell_type": "code",
   "execution_count": 6,
   "metadata": {},
   "outputs": [],
   "source": [
    "def BAM_load(model, file_name):\n",
    "    model.matrix_file = open(file_name, \"r\")\n",
    "    \n",
    "    model.useful_capacity = int(model.matrix_file.readline())\n",
    "    model.N, model.M, model.P = list(map(int, model.matrix_file.readline().split(\" \")))\n",
    "    model.W = read_matrix(model.matrix_file, model.N * model.M, model.M * model.P)\n",
    "    model.X = np.zeros((1, model.W.shape[0]))\n",
    "    model.Y = np.zeros((1, model.W.shape[1]))\n",
    "    return 1"
   ]
  },
  {
   "cell_type": "code",
   "execution_count": 7,
   "metadata": {},
   "outputs": [],
   "source": [
    "def BAM_add(model, A, B):\n",
    "    if A.shape[0] * A.shape[1] != model.W.shape[0]:\n",
    "        print(\"AAA\")\n",
    "    if B.shape[0] * B.shape[1] != model.W.shape[1]:\n",
    "        print(\"ъBBB\")\n",
    "    \n",
    "    model.X = transform_to_bipolar_vector(A)\n",
    "    model.Y = transform_to_bipolar_vector(B)    \n",
    "    model.W = np.add(np.dot(model.X, np.transpose(model.Y)), model.W)\n",
    "    \n",
    "    model.useful_capacity -= 1\n",
    "    print(\"Capacity: \"+ str(model.useful_capacity))\n",
    "    \n",
    "    file = open(\"A.txt\", \"w\")\n",
    "    file.write(str(model.useful_capacity) + '\\n' + str(model.N) + ' ' + str(model.M) + ' ' + str(model.P) + '\\n')\n",
    "    write_matrix(model.W, file)\n",
    "    \n",
    "    return"
   ]
  },
  {
   "cell_type": "code",
   "execution_count": 8,
   "metadata": {},
   "outputs": [],
   "source": [
    "def BAM_delete(model, A, B):\n",
    "    if A.shape[0] * A.shape[1] != model.W.shape[0]:\n",
    "        print(\"AAA\")\n",
    "    if B.shape[0] * B.shape[1] != model.W.shape[1]:\n",
    "        print(\"BBB\")\n",
    "    \n",
    "    model.X = transform_to_bipolar_vector(A)\n",
    "    model.Y = transform_to_bipolar_vector(B)    \n",
    "    model.W = np.add(np.negative(np.dot(model.X, np.transpose(model.Y))), model.W)\n",
    "    \n",
    "    model.useful_capacity += 1    \n",
    "    print(\"Capacity: \"+ str(model.useful_capacity))\n",
    "\n",
    "    file = open(\"A.txt\", \"w\")\n",
    "    file.write(str(model.useful_capacity) + '\\n' + str(model.N) + ' ' + str(model.M) + ' ' + str(model.P) + '\\n')\n",
    "    write_matrix(model.W, file)\n",
    "    \n",
    "    return"
   ]
  },
  {
   "cell_type": "code",
   "execution_count": 9,
   "metadata": {},
   "outputs": [],
   "source": [
    "def BAM_associate_left(model, A, B):\n",
    "    if A.shape[0] * A.shape[1] != model.W.shape[0]:\n",
    "        print(\"fuckAAA\")\n",
    "        \n",
    "    model.X = transform_to_bipolar_vector(A)\n",
    "\n",
    "    step = 0\n",
    "    X_prev = np.zeros((model.X.shape[0], model.X.shape[1]))    \n",
    "    X_prev_prev = np.zeros((model.X.shape[0], model.X.shape[1]))\n",
    "    \n",
    "    while 1:        \n",
    "        model.Y = np.dot(np.transpose(model.X), model.W)\n",
    "        X_prev_prev = X_prev        \n",
    "        X_prev = model.X\n",
    "\n",
    "        model.X = np.dot(model.Y, np.transpose(model.W))\n",
    "\n",
    "        model.X = np.transpose(activate_m(model.X))\n",
    "        \n",
    "        step += 1\n",
    "        print(\"iteration: \" + str(step))\n",
    "        \n",
    "        if np.array_equal(X_prev, model.X) or np.array_equal(X_prev_prev, model.X):  \n",
    "            model.Y = activate_m(model.Y)         \n",
    "            B = model.Y.reshape(B.shape[0], B.shape[1])   \n",
    "            B[B < 0] = 0 \n",
    "            print(\"iteration: \" + str(step))\n",
    "            return B\n",
    "        \n",
    "def BAM_associate_right(model, A, B):\n",
    "    if B.shape[0] * B.shape[1] != model.W.shape[1]:\n",
    "        print(\"fuckBBB\")\n",
    "        \n",
    "    model.Y = transform_to_bipolar_vector(B)\n",
    "\n",
    "    step = 0\n",
    "    Y_prev = np.zeros((model.Y.shape[0], model.Y.shape[1]))    \n",
    "    Y_prev_prev = np.zeros((model.Y.shape[0], model.Y.shape[1]))\n",
    "    \n",
    "    while 1:        \n",
    "        \n",
    "        model.X = np.dot(np.transpose(model.Y), np.transpose(model.W))\n",
    "        model.X = activate_m(model.X)\n",
    "        \n",
    "        Y_prev_prev = Y_prev        \n",
    "        Y_prev = model.Y\n",
    "\n",
    "        model.Y = np.dot(model.X, model.W)\n",
    "        model.Y = np.transpose(activate_m(model.Y))\n",
    "        \n",
    "        step += 1\n",
    "        print(\"iteration: \" + str(step))\n",
    "        \n",
    "        if np.array_equal(Y_prev, model.Y) or np.array_equal(Y_prev_prev, model.Y):  \n",
    "            A = model.X.reshape(A.shape[0], A.shape[1])\n",
    "            A[A < 0] = 0 \n",
    "            print(\"iteration: \" + str(step))\n",
    "            return A\n",
    "    "
   ]
  },
  {
   "cell_type": "code",
   "execution_count": 15,
   "metadata": {},
   "outputs": [
    {
     "name": "stdout",
     "output_type": "stream",
     "text": [
      "3.7580364941821514\n"
     ]
    },
    {
     "data": {
      "text/plain": [
       "1"
      ]
     },
     "execution_count": 15,
     "metadata": {},
     "output_type": "execute_result"
    }
   ],
   "source": [
    "BAM_create(\"A.txt\", 5, 8, 15)"
   ]
  },
  {
   "cell_type": "code",
   "execution_count": 16,
   "metadata": {},
   "outputs": [
    {
     "name": "stdout",
     "output_type": "stream",
     "text": [
      "5 8 15\n"
     ]
    }
   ],
   "source": [
    "model = BAM_model(0, 0, 0, 0, 0, 0, 0, 0, 0)\n",
    "BAM_load(model, \"A.txt\")\n",
    "\n",
    "print(model.N, model.M, model.P)"
   ]
  },
  {
   "cell_type": "code",
   "execution_count": 21,
   "metadata": {},
   "outputs": [
    {
     "name": "stdout",
     "output_type": "stream",
     "text": [
      "Capacity: 0\n"
     ]
    }
   ],
   "source": [
    "file = open(\"2_1\", 'r')\n",
    "nA, mA = list(map(int, file.readline().split(\" \")))\n",
    "A = read_matrix(file, nA, mA)\n",
    "file.close()\n",
    "\n",
    "file = open(\"2_2\", 'r')\n",
    "nB, mB = list(map(int, file.readline().split(\" \")))\n",
    "B = read_matrix(file, nB, mB)\n",
    "file.close()\n",
    "\n",
    "BAM_add(model, A, B)"
   ]
  },
  {
   "cell_type": "code",
   "execution_count": 288,
   "metadata": {},
   "outputs": [
    {
     "name": "stdout",
     "output_type": "stream",
     "text": [
      "Capacity: 4\n"
     ]
    }
   ],
   "source": [
    "BAM_delete(model, A, B)"
   ]
  },
  {
   "cell_type": "code",
   "execution_count": 22,
   "metadata": {},
   "outputs": [
    {
     "name": "stdout",
     "output_type": "stream",
     "text": [
      "[[0. 0. 0. 1. 0. 1. 0. 1.]\n",
      " [1. 0. 1. 0. 1. 0. 1. 0.]\n",
      " [0. 1. 0. 0. 1. 1. 0. 1.]\n",
      " [1. 0. 1. 0. 1. 0. 1. 0.]\n",
      " [0. 1. 0. 1. 0. 1. 0. 1.]]\n",
      "iteration: 1\n",
      "iteration: 2\n",
      "iteration: 2\n",
      "[[0. 0. 0. 1. 1. 1. 1. 0. 1. 0. 0. 0. 0. 0. 0.]\n",
      " [0. 0. 1. 0. 1. 1. 1. 1. 0. 1. 0. 0. 0. 0. 0.]\n",
      " [0. 1. 0. 0. 0. 1. 1. 1. 1. 0. 1. 0. 0. 0. 0.]\n",
      " [1. 0. 0. 0. 0. 0. 1. 1. 1. 1. 0. 1. 0. 0. 0.]\n",
      " [0. 1. 0. 0. 0. 0. 0. 1. 1. 1. 1. 0. 1. 0. 0.]\n",
      " [0. 0. 1. 0. 0. 0. 1. 0. 1. 1. 1. 1. 0. 1. 0.]\n",
      " [0. 0. 0. 1. 0. 1. 0. 0. 0. 1. 1. 1. 1. 0. 1.]\n",
      " [0. 0. 0. 0. 1. 0. 0. 0. 0. 0. 1. 1. 1. 1. 0.]]\n"
     ]
    }
   ],
   "source": [
    "file = open(\"5_1r\", 'r')\n",
    "nA, mA = list(map(int, file.readline().split(\" \")))\n",
    "A = read_matrix(file, nA, mA)\n",
    "file.close()\n",
    "print(A)\n",
    "\n",
    "B = np.zeros((model.M, model.P))\n",
    "B = BAM_associate_left(model, A, B)\n",
    "print(B)"
   ]
  },
  {
   "cell_type": "code",
   "execution_count": 23,
   "metadata": {},
   "outputs": [
    {
     "name": "stdout",
     "output_type": "stream",
     "text": [
      "[[0. 0. 0. 1. 1. 1. 1. 0. 1. 0. 0. 0. 0. 0. 0.]\n",
      " [0. 0. 1. 0. 1. 1. 1. 1. 0. 1. 0. 0. 0. 0. 0.]\n",
      " [0. 1. 0. 0. 0. 1. 1. 0. 0. 0. 1. 0. 0. 0. 0.]\n",
      " [1. 1. 0. 0. 0. 0. 1. 1. 1. 1. 0. 1. 0. 0. 0.]\n",
      " [0. 1. 0. 0. 0. 0. 0. 1. 1. 1. 1. 0. 1. 0. 0.]\n",
      " [0. 1. 1. 0. 0. 0. 1. 0. 1. 1. 1. 1. 0. 1. 0.]\n",
      " [0. 1. 0. 1. 0. 1. 0. 0. 0. 1. 1. 1. 1. 0. 1.]\n",
      " [0. 0. 0. 0. 1. 0. 0. 0. 0. 0. 1. 1. 1. 1. 0.]]\n",
      "iteration: 1\n",
      "iteration: 2\n",
      "iteration: 2\n",
      "[[0. 1. 0. 1. 0. 1. 0. 1.]\n",
      " [1. 0. 1. 0. 1. 0. 1. 0.]\n",
      " [0. 1. 0. 1. 0. 1. 0. 1.]\n",
      " [1. 0. 1. 0. 1. 0. 1. 0.]\n",
      " [0. 1. 0. 1. 0. 1. 0. 1.]]\n"
     ]
    }
   ],
   "source": [
    "file = open(\"5_2r\", 'r')\n",
    "nB, mB = list(map(int, file.readline().split(\" \")))\n",
    "B = read_matrix(file, nB, mB)\n",
    "file.close()\n",
    "print(B)\n",
    "\n",
    "A = np.zeros((model.N, model.M))\n",
    "A = BAM_associate_right(model, A, B)\n",
    "print(A)"
   ]
  },
  {
   "cell_type": "code",
   "execution_count": null,
   "metadata": {},
   "outputs": [],
   "source": []
  },
  {
   "cell_type": "code",
   "execution_count": null,
   "metadata": {},
   "outputs": [],
   "source": []
  }
 ],
 "metadata": {
  "kernelspec": {
   "display_name": "Python 3",
   "language": "python",
   "name": "python3"
  },
  "language_info": {
   "codemirror_mode": {
    "name": "ipython",
    "version": 3
   },
   "file_extension": ".py",
   "mimetype": "text/x-python",
   "name": "python",
   "nbconvert_exporter": "python",
   "pygments_lexer": "ipython3",
   "version": "3.7.4"
  }
 },
 "nbformat": 4,
 "nbformat_minor": 2
}
